{
 "cells": [
  {
   "cell_type": "code",
   "execution_count": 1,
   "metadata": {},
   "outputs": [
    {
     "name": "stdout",
     "output_type": "stream",
     "text": [
      "노트북 에이서 스위프트 GO 16 OLED, 스틸 그레이, 코어i7, 512GB, 16GB, WIN11 Home, SFG16-71-77FT #product1_detail.html 1419000\n"
     ]
    }
   ],
   "source": [
    "import requests\n",
    "from bs4 import BeautifulSoup\n",
    "\n",
    "response = requests.get(\"https://startcoding.pythonanywhere.com/basic\")\n",
    "html = response.text\n",
    "soup = BeautifulSoup(html, 'html.parser')\n",
    "category = soup.select_one(\".product-category\").text\n",
    "name = soup.select_one(\".product-name\").text\n",
    "link = soup.select_one(\".product-name > a\").attrs['href']\n",
    "price = soup.select_one(\".product-price\").text.strip().replace(',','').replace('원','') #앞뒤 공백을 잘라주는 함수\n",
    "print(category, name, link, price)"
   ]
  },
  {
   "cell_type": "code",
   "execution_count": null,
   "metadata": {},
   "outputs": [
    {
     "name": "stdout",
     "output_type": "stream",
     "text": [
      "<p class=\"product-category\">노트북</p>\n"
     ]
    }
   ],
   "source": [
    "import requests\n",
    "from bs4 import BeautifulSoup\n",
    "\n",
    "response = requests.get(\"https://startcoding.pythonanywhere.com/basic\")\n",
    "html = response.text\n",
    "soup = BeautifulSoup(html, 'html.parser')\n",
    "# 텍스트와 똑같은 태그 하나 찾기\n",
    "print(soup.find('p', string='노트북'))\n"
   ]
  },
  {
   "cell_type": "code",
   "execution_count": 8,
   "metadata": {},
   "outputs": [
    {
     "data": {
      "text/plain": [
       "[<p class=\"product-category\">노트북</p>,\n",
       " <p class=\"product-category\">노트북</p>,\n",
       " <p class=\"product-category\">노트북</p>,\n",
       " <p class=\"product-category\">노트북</p>,\n",
       " <p class=\"product-category\">노트북</p>,\n",
       " <p class=\"product-category\">노트북</p>,\n",
       " <p class=\"product-category\">노트북</p>,\n",
       " <p class=\"product-category\">노트북</p>,\n",
       " <p class=\"product-category\">노트북</p>,\n",
       " <p class=\"product-category\">노트북</p>]"
      ]
     },
     "execution_count": 8,
     "metadata": {},
     "output_type": "execute_result"
    }
   ],
   "source": [
    "# 텍스트와 똑같은 태그 여러개 찾기\n",
    "soup.find_all('p', string='노트북')"
   ]
  },
  {
   "cell_type": "code",
   "execution_count": 9,
   "metadata": {},
   "outputs": [
    {
     "data": {
      "text/plain": [
       "[]"
      ]
     },
     "execution_count": 9,
     "metadata": {},
     "output_type": "execute_result"
    }
   ],
   "source": [
    "soup.find_all('a', string='그레이')"
   ]
  },
  {
   "cell_type": "code",
   "execution_count": null,
   "metadata": {},
   "outputs": [],
   "source": [
    "import re\n",
    "\n",
    "# 텍스트를 포함하는 태그 하나 찾기\n",
    "soup.find('a', string=re.comile('그레이'))"
   ]
  },
  {
   "cell_type": "code",
   "execution_count": null,
   "metadata": {},
   "outputs": [
    {
     "data": {
      "text/plain": [
       "NoneType"
      ]
     },
     "execution_count": 3,
     "metadata": {},
     "output_type": "execute_result"
    }
   ],
   "source": [
    "# 동적인 페이지 / 응답받은 html 페이지가 껍데기만 들어있음\n",
    "# 정적페이지 크롤링 방법으로 불가능\n",
    "\n",
    "import requests\n",
    "from bs4 import BeautifulSoup\n",
    "\n",
    "response = requests.get(\"https://www.naver.com\")\n",
    "html = response.text\n",
    "soup = BeautifulSoup(html, 'html.parser')\n",
    "type(soup.select_one(\"#footer > div > div.notice_area > div > h3 > a\"))"
   ]
  },
  {
   "cell_type": "code",
   "execution_count": null,
   "metadata": {},
   "outputs": [
    {
     "data": {
      "text/plain": [
       "'공지사항'"
      ]
     },
     "execution_count": 10,
     "metadata": {},
     "output_type": "execute_result"
    }
   ],
   "source": [
    "# 셀레니움으로 페이지를 열고 알맹이를 받아온다음 추출하기\n",
    "from selenium import webdriver\n",
    "from selenium.webdriver.common.by import By\n",
    "from selenium.webdriver.common.keys import Keys\n",
    "driver = webdriver.Chrome()\n",
    "\n",
    "# 페이지 이동tn\n",
    "driver.get(\"https://www.naver.com\")\n",
    "\n",
    "# 현재 드라이버의 HTML 가져오기\n",
    "html = driver.page_source\n",
    "soup = BeautifulSoup(html, 'html.parser')\n",
    "soup.select_one(\"#footer > div > div.notice_area > div > h3 > a\").text\n",
    "\n",
    "# 크롤링 종료 후 브라우저 닫기\n",
    "# driver.quit()\n"
   ]
  },
  {
   "cell_type": "code",
   "execution_count": null,
   "metadata": {},
   "outputs": [],
   "source": [
    "\n"
   ]
  }
 ],
 "metadata": {
  "kernelspec": {
   "display_name": "myenv",
   "language": "python",
   "name": "python3"
  },
  "language_info": {
   "codemirror_mode": {
    "name": "ipython",
    "version": 3
   },
   "file_extension": ".py",
   "mimetype": "text/x-python",
   "name": "python",
   "nbconvert_exporter": "python",
   "pygments_lexer": "ipython3",
   "version": "3.12.8"
  }
 },
 "nbformat": 4,
 "nbformat_minor": 2
}
