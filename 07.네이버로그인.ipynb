{
 "cells": [
  {
   "cell_type": "code",
   "execution_count": 10,
   "metadata": {},
   "outputs": [],
   "source": [
    "user_id = \"jemin75\"\n",
    "user_pw = \"Iloveomiyejun1@\""
   ]
  },
  {
   "cell_type": "code",
   "execution_count": null,
   "metadata": {},
   "outputs": [],
   "source": [
    "from selenium import webdriver\n",
    "from selenium.webdriver.common.by import By\n",
    "from selenium.webdriver.common.keys import Keys\n",
    "import time\n",
    "\n",
    "# user_id = \"id\"\n",
    "# user_pw = \"pw\"\n",
    "\n",
    "# 드라이버 생성\n",
    "driver = webdriver.Chrome()\n",
    "driver.maximize_window()\n",
    "\n",
    "# 1. 로그인 페이지 이동\n",
    "driver.get(\"https://nid.naver.com/nidlogin.login?mode=form&url=https%3A%2F%2Fwww.naver.com\")\n",
    "time.sleep(2)\n",
    "\n",
    "# 2. 아이디 입력\n",
    "id = driver.find_element(By.CSS_SELECTOR, \"#id\")\n",
    "id.send_keys(user_id)\n",
    "time.sleep(1)\n",
    "\n",
    "# 3. 비밀번호 입력\n",
    "pw = driver.find_element(By.CSS_SELECTOR, \"#pw\")\n",
    "pw.send_keys(user_pw)\n",
    "time.sleep(1)\n",
    "\n",
    "# 4. 로그인 버튼 클릭\n",
    "driver.find_element(By.CSS_SELECTOR, \"#log\\\\.login\").click()\n"
   ]
  },
  {
   "cell_type": "code",
   "execution_count": 9,
   "metadata": {},
   "outputs": [
    {
     "name": "stdout",
     "output_type": "stream",
     "text": [
      "Requirement already satisfied: pyperclip in c:\\users\\jemin\\anaconda\\envs\\aigenius\\lib\\site-packages (1.9.0)\n",
      "Note: you may need to restart the kernel to use updated packages.\n"
     ]
    }
   ],
   "source": [
    "pip install pyperclip"
   ]
  },
  {
   "cell_type": "code",
   "execution_count": 61,
   "metadata": {},
   "outputs": [],
   "source": [
    "# 네이버 로그인 자동화 프로그램 (캡차 우회) 코드, 복사 붙여넣기기\n",
    "\n",
    "from selenium import webdriver\n",
    "from selenium.webdriver.common.by import By\n",
    "from selenium.webdriver.common.keys import Keys\n",
    "import time\n",
    "import pyperclip\n",
    "\n",
    "# user_id = \"id\"\n",
    "# user_pw = \"pw\"\n",
    "\n",
    "# 드라이버 생성\n",
    "driver = webdriver.Chrome()\n",
    "driver.maximize_window()\n",
    "\n",
    "# 1. 로그인 페이지 이동\n",
    "driver.get(\"https://nid.naver.com/nidlogin.login?mode=form&url=https%3A%2F%2Fwww.naver.com\")\n",
    "time.sleep(2)\n",
    "\n",
    "# 2. 아이디 입력 / 복사 붙여넣기\n",
    "id = driver.find_element(By.CSS_SELECTOR, \"#id\")\n",
    "pyperclip.copy(user_id)\n",
    "id.send_keys(Keys.CONTROL, 'v')\n",
    "time.sleep(2)\n",
    " \n",
    "# 3. 비밀번호 입력 / 복사 붙여넣기\n",
    "pw = driver.find_element(By.CSS_SELECTOR, \"#pw\")\n",
    "pyperclip.copy(user_pw)\n",
    "pw.send_keys(Keys.CONTROL, 'v')\n",
    "time.sleep(2)\n",
    "\n",
    "# 4. 로그인 버튼 클릭\n",
    "driver.find_element(By.CSS_SELECTOR, \"#log\\\\.login\").click()\n",
    "time.sleep(2)\n",
    "\n",
    "# 5. 브라우저 등록안함\n",
    "driver.find_element(By.CSS_SELECTOR, \"#new\\\\.dontsave\").click()\n",
    "\n",
    "# 네이버 메인 페이지 이동\n",
    "# driver.get(\"https://www.naver.com\")\n",
    "# time.sleep(2)\n"
   ]
  },
  {
   "cell_type": "code",
   "execution_count": 62,
   "metadata": {},
   "outputs": [],
   "source": [
    "# 드롭다운 메뉴 클릭\n",
    "driver.find_element(By.CSS_SELECTOR, \"#account > div.MyView-module__my_menu___eF24q > div > div > ul > li:nth-child(1) > a > span.MyView-module__item_text___VTQQM\").click()\n",
    "time.sleep(2)\n",
    "\n",
    "# 메일함 메뉴 클릭\n",
    "driver.find_element(By.CSS_SELECTOR, \"#account > div.MyView-module__layer_menu_service___NqMyX > div.MyView-module__service_sub___wix9p > div.MyView-module__sub_left___AIWHR > a\").click()\n",
    "time.sleep(2)\n",
    "\n",
    "# 현재 열려있는 창 / 웹드라이버는 한순간에 한개의 창만 제어가능\n",
    "# driver.window_handles\n",
    "# time.sleep(2)\n",
    "\n"
   ]
  },
  {
   "cell_type": "code",
   "execution_count": 63,
   "metadata": {},
   "outputs": [],
   "source": [
    "# 새창으로 전환\n",
    "driver.switch_to.window(driver.window_handles[1])"
   ]
  },
  {
   "cell_type": "code",
   "execution_count": 64,
   "metadata": {},
   "outputs": [],
   "source": [
    "from selenium import webdriver\n",
    "from selenium.webdriver.common.by import By\n",
    "from selenium.webdriver.support.ui import WebDriverWait\n",
    "from selenium.webdriver.support import expected_conditions as EC\n",
    "\n",
    "# 웹드라이버 실행\n",
    "# driver = webdriver.Chrome()\n",
    "\n",
    "# # 페이지 로드\n",
    "# driver.get(\"https://example.com\")  # 실제 URL로 변경\n",
    "\n",
    "# 페이지 로딩 완료될 때까지 대기\n",
    "WebDriverWait(driver, 10).until(lambda d: d.execute_script(\"return document.readyState\") == \"complete\")\n",
    "\n",
    "try:\n",
    "    # 요소가 나타날 때까지 대기 후 클릭\n",
    "    element = WebDriverWait(driver, 10).until(\n",
    "        EC.element_to_be_clickable((By.CLASS_NAME, \"button_write\"))\n",
    "    )\n",
    "\n",
    "    # JavaScript 클릭 실행 (필요한 경우)\n",
    "    driver.execute_script(\"arguments[0].click();\", element)\n",
    "\n",
    "except Exception as e:\n",
    "    print(f\"오류 발생: {e}\")\n",
    "# 메일함 버튼 클릭 / 버튼 클릭 안됨됨\n",
    "# driver.find_element(By.CSS_SELECTOR, \"#root > div > nav > div > div.lnb_header > div.lnb_task > a.item.button_write\").click()\n",
    "# 원래창으로 전환\n",
    "# driver.switch_to.window(driver.window_handles[0])\n"
   ]
  },
  {
   "cell_type": "code",
   "execution_count": 65,
   "metadata": {},
   "outputs": [],
   "source": [
    "# 받는 사람 입력\n",
    "try:\n",
    "    recipient_input = WebDriverWait(driver, 10).until(\n",
    "        EC.presence_of_element_located((By.CSS_SELECTOR, \"#recipient_input_element\"))\n",
    "    )\n",
    "    recipient_input.send_keys(\"jemin75@naver.com\")\n",
    "except Exception as e:\n",
    "    print(f\"오류 발생: {e}\")\n",
    "\n",
    "# 작업 후 브라우저 종료\n",
    "# driver.quit()\n"
   ]
  },
  {
   "cell_type": "code",
   "execution_count": null,
   "metadata": {},
   "outputs": [],
   "source": [
    "# 제목목 입력\n",
    "try:\n",
    "    recipient_input = WebDriverWait(driver, 10).until(\n",
    "        EC.presence_of_element_located((By.CSS_SELECTOR, \"#subject_title\"))\n",
    "    )\n",
    "    recipient_input.send_keys(\"셀레니움 재미있음\")\n",
    "except Exception as e:\n",
    "    print(f\"오류 발생: {e}\")\n",
    "\n",
    "# 작업 후 브라우저 종료\n",
    "# driver.quit()\n"
   ]
  },
  {
   "cell_type": "code",
   "execution_count": null,
   "metadata": {},
   "outputs": [],
   "source": [
    "# 프레임 전환환\n",
    "iframe =driver.find_element(By.CSS_SELECTOR, \"#content > div.contents_area > div > div.editor_area > div > div.editor_body > iframe\")\n",
    "driver.switch_to.frame(iframe)"
   ]
  },
  {
   "cell_type": "code",
   "execution_count": 69,
   "metadata": {},
   "outputs": [],
   "source": [
    "# 본문 입력\n",
    "try:\n",
    "    recipient_input = WebDriverWait(driver, 10).until(\n",
    "        EC.presence_of_element_located((By.CSS_SELECTOR, \"body > div > div.workseditor-content\"))\n",
    "    )\n",
    "    recipient_input.send_keys(\"셀레니움 재미있음 ㅋ\")\n",
    "except Exception as e:\n",
    "    print(f\"오류 발생: {e}\")"
   ]
  },
  {
   "cell_type": "code",
   "execution_count": 72,
   "metadata": {},
   "outputs": [],
   "source": [
    "# 원래 창으로 돌아오기\n",
    "driver.switch_to.default_content()"
   ]
  },
  {
   "cell_type": "code",
   "execution_count": 73,
   "metadata": {},
   "outputs": [],
   "source": [
    "# 메일 보내기 버튼 클릭\n",
    "driver.find_element(By.CSS_SELECTOR, \"#content > div.mail_toolbar.type_write > div:nth-child(1) > div > button.button_write_task\").click()"
   ]
  },
  {
   "cell_type": "code",
   "execution_count": null,
   "metadata": {},
   "outputs": [],
   "source": []
  }
 ],
 "metadata": {
  "kernelspec": {
   "display_name": "aigenius",
   "language": "python",
   "name": "python3"
  },
  "language_info": {
   "codemirror_mode": {
    "name": "ipython",
    "version": 3
   },
   "file_extension": ".py",
   "mimetype": "text/x-python",
   "name": "python",
   "nbconvert_exporter": "python",
   "pygments_lexer": "ipython3",
   "version": "3.12.8"
  }
 },
 "nbformat": 4,
 "nbformat_minor": 2
}
